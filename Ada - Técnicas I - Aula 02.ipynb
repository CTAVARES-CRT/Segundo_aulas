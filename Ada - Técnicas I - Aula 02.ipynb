{
 "cells": [
  {
   "cell_type": "code",
   "execution_count": null,
   "metadata": {},
   "outputs": [],
   "source": []
  },
  {
   "cell_type": "markdown",
   "metadata": {},
   "source": [
    "Sem o uso de numpy, como podemos declarar uma matriz? E como podemos acessar qualquer valor desta? "
   ]
  },
  {
   "cell_type": "code",
   "execution_count": 3,
   "metadata": {},
   "outputs": [
    {
     "name": "stdout",
     "output_type": "stream",
     "text": [
      "[[1, 2, 3], [2, 3, 4], [3, 4, 5]]\n"
     ]
    }
   ],
   "source": [
    "import numpy as np\n",
    "\n",
    "matriz = [[1,2,3],[2,3,4],[3,4,5]]\n",
    "\n",
    "print(matriz)"
   ]
  },
  {
   "cell_type": "markdown",
   "metadata": {},
   "source": [
    "Com o uso de numpy, é muito mais simples"
   ]
  },
  {
   "cell_type": "code",
   "execution_count": 4,
   "metadata": {},
   "outputs": [
    {
     "data": {
      "text/plain": [
       "array([[1, 2, 3],\n",
       "       [2, 3, 4],\n",
       "       [3, 4, 5]])"
      ]
     },
     "execution_count": 4,
     "metadata": {},
     "output_type": "execute_result"
    }
   ],
   "source": [
    "np_matriz = np.array(matriz)\n",
    "\n",
    "np_matriz"
   ]
  },
  {
   "cell_type": "code",
   "execution_count": 8,
   "metadata": {},
   "outputs": [
    {
     "data": {
      "text/plain": [
       "3"
      ]
     },
     "execution_count": 8,
     "metadata": {},
     "output_type": "execute_result"
    }
   ],
   "source": [
    "#LER ELEMENTO DA MATRIZ\n",
    "#1ª FORMA\n",
    "np_matriz[1][1]\n"
   ]
  },
  {
   "cell_type": "code",
   "execution_count": null,
   "metadata": {},
   "outputs": [],
   "source": [
    "#2ªFORMA\n",
    "np_matriz[1,1]"
   ]
  },
  {
   "cell_type": "markdown",
   "metadata": {},
   "source": [
    "### Criação de matrizes e vetores"
   ]
  },
  {
   "cell_type": "markdown",
   "metadata": {},
   "source": [
    "Podemos criar matrizes e vetores de diferentes formas.\n",
    "\n",
    "- Constante (zeros, ones, etc).\n",
    "\n",
    "- Com ordenação.\n",
    "\n",
    "- Aleatória."
   ]
  },
  {
   "cell_type": "code",
   "execution_count": null,
   "metadata": {},
   "outputs": [],
   "source": []
  },
  {
   "cell_type": "markdown",
   "metadata": {},
   "source": [
    "#### Constante "
   ]
  },
  {
   "cell_type": "markdown",
   "metadata": {},
   "source": [
    "Temos diferentes métodos:\n",
    "\n",
    "- Zeros (preenche apenas com 0's)\n",
    "\n",
    "- Ones (preenche apenas com 1's)\n",
    "\n",
    "- Full (preenche apenas com o valor estipulado)"
   ]
  },
  {
   "cell_type": "code",
   "execution_count": 12,
   "metadata": {},
   "outputs": [
    {
     "data": {
      "text/plain": [
       "array([[0., 0., 0., 0., 0.],\n",
       "       [0., 0., 0., 0., 0.],\n",
       "       [0., 0., 0., 0., 0.],\n",
       "       [0., 0., 0., 0., 0.],\n",
       "       [0., 0., 0., 0., 0.]])"
      ]
     },
     "execution_count": 12,
     "metadata": {},
     "output_type": "execute_result"
    }
   ],
   "source": [
    "np.zeros((5,5))"
   ]
  },
  {
   "cell_type": "code",
   "execution_count": 13,
   "metadata": {},
   "outputs": [
    {
     "data": {
      "text/plain": [
       "array([[1., 1., 1., 1., 1.],\n",
       "       [1., 1., 1., 1., 1.],\n",
       "       [1., 1., 1., 1., 1.],\n",
       "       [1., 1., 1., 1., 1.],\n",
       "       [1., 1., 1., 1., 1.]])"
      ]
     },
     "execution_count": 13,
     "metadata": {},
     "output_type": "execute_result"
    }
   ],
   "source": [
    "np.ones((5,5))"
   ]
  },
  {
   "cell_type": "markdown",
   "metadata": {},
   "source": [
    "### Ordenado"
   ]
  },
  {
   "cell_type": "markdown",
   "metadata": {},
   "source": [
    "Temos alguns exemplos:\n",
    "\n",
    "- `np.repeat`\n",
    "\n",
    "- `np.arange`\n",
    "\n",
    "- `np.linspace`"
   ]
  },
  {
   "cell_type": "markdown",
   "metadata": {},
   "source": []
  },
  {
   "cell_type": "code",
   "execution_count": null,
   "metadata": {},
   "outputs": [],
   "source": []
  },
  {
   "cell_type": "markdown",
   "metadata": {},
   "source": [
    "### Aleatório"
   ]
  },
  {
   "cell_type": "markdown",
   "metadata": {},
   "source": [
    "Podemos usar de um jeito semelhante ao que fazemos geralmente com a ferramenta random. \n",
    "\n",
    "- `np.random.rand`\n",
    "\n",
    "- `np.random.randint` \n",
    "\n",
    "- `np.random.choice`"
   ]
  },
  {
   "cell_type": "code",
   "execution_count": 47,
   "metadata": {},
   "outputs": [
    {
     "name": "stdout",
     "output_type": "stream",
     "text": [
      "[[0.12706699 0.58349718 0.81945098]\n",
      " [0.2189166  0.64486949 0.87078313]\n",
      " [0.01053582 0.02381033 0.18032918]]\n"
     ]
    }
   ],
   "source": [
    "matriz_aleatoria = np.random.rand(3,3)\n",
    "\n",
    "matriz_aleatoria.sort()\n",
    "\n",
    "print(matriz_aleatoria)\n",
    "\n"
   ]
  },
  {
   "cell_type": "code",
   "execution_count": 34,
   "metadata": {},
   "outputs": [
    {
     "data": {
      "text/plain": [
       "array([[3, 1, 1, 4, 3, 0, 0],\n",
       "       [3, 4, 2, 0, 3, 3, 4],\n",
       "       [3, 4, 2, 2, 0, 1, 2]])"
      ]
     },
     "execution_count": 34,
     "metadata": {},
     "output_type": "execute_result"
    }
   ],
   "source": [
    "matriz_inte = np.random.randint(0, high=5, size=(3,7))\n",
    "\n",
    "matriz_inte"
   ]
  },
  {
   "cell_type": "code",
   "execution_count": null,
   "metadata": {},
   "outputs": [],
   "source": []
  },
  {
   "attachments": {},
   "cell_type": "markdown",
   "metadata": {},
   "source": [
    "### Shapes, reshapes e resizes"
   ]
  },
  {
   "attachments": {},
   "cell_type": "markdown",
   "metadata": {},
   "source": [
    "Na prática, precisamos mudar frequentemente o formato dos dados apresentados em um `np.ndarray`, tanto em seus valores como também em suas dimensões. \n",
    "\n",
    "Considere, por exemplo, um problema que armazenamos uma informação de mercado em três dimensões, onde a primeira dimensão contém os valores em cada um dos dias, a segunda dimensão contém os produtos e a terceira dimensão está relacionado com o departamento do mercado. \n",
    "\n",
    "Queremos transformar este **tensor** para que tenha apenas duas dimensões, sendo a primeira contendo os valores em cada um dos dias, e a segunda dimensão contendo todos os produtos, independentemente do departamento. Como faremos isso? "
   ]
  },
  {
   "cell_type": "code",
   "execution_count": 15,
   "metadata": {},
   "outputs": [
    {
     "name": "stdout",
     "output_type": "stream",
     "text": [
      "[1 2 3 4 5 6 7 8 9]\n"
     ]
    }
   ],
   "source": [
    "vetor=[1,2,3,4,5,6,7,8,9]\n",
    "\n",
    "np_vetor = np.array(vetor)\n",
    "print(np_vetor)"
   ]
  },
  {
   "cell_type": "code",
   "execution_count": 16,
   "metadata": {},
   "outputs": [
    {
     "data": {
      "text/plain": [
       "(9,)"
      ]
     },
     "execution_count": 16,
     "metadata": {},
     "output_type": "execute_result"
    }
   ],
   "source": [
    "np_vetor.shape"
   ]
  },
  {
   "cell_type": "code",
   "execution_count": 18,
   "metadata": {},
   "outputs": [
    {
     "data": {
      "text/plain": [
       "array([[1, 2, 3],\n",
       "       [4, 5, 6],\n",
       "       [7, 8, 9]])"
      ]
     },
     "execution_count": 18,
     "metadata": {},
     "output_type": "execute_result"
    }
   ],
   "source": [
    "#obedecer a quantidade de elementos se dar para formar a matriz\n",
    "np_vetor.reshape((3,3))"
   ]
  },
  {
   "cell_type": "code",
   "execution_count": 24,
   "metadata": {},
   "outputs": [
    {
     "name": "stdout",
     "output_type": "stream",
     "text": [
      "[ 1  2  3  4  5  6  7  8  9 10 11 12]\n"
     ]
    }
   ],
   "source": [
    "#Para ãlo observar a quantidade de linhas, e colocar -1 no primeiro argumento\n",
    "vetor1=[1,2,3,4,5,6,7,8,9, 10, 11, 12]\n",
    "np_vetor1 = np.array(vetor1)\n",
    "print(np_vetor1)\n"
   ]
  },
  {
   "cell_type": "code",
   "execution_count": 26,
   "metadata": {},
   "outputs": [
    {
     "data": {
      "text/plain": [
       "array([[ 1,  2,  3],\n",
       "       [ 4,  5,  6],\n",
       "       [ 7,  8,  9],\n",
       "       [10, 11, 12]])"
      ]
     },
     "execution_count": 26,
     "metadata": {},
     "output_type": "execute_result"
    }
   ],
   "source": [
    "np_vetor1.shape\n",
    "\n",
    "np_vetor1.reshape((-1,3))"
   ]
  },
  {
   "attachments": {},
   "cell_type": "markdown",
   "metadata": {},
   "source": [
    "## Exercícios de fixação"
   ]
  },
  {
   "attachments": {},
   "cell_type": "markdown",
   "metadata": {},
   "source": [
    "1. Escreva um programa para criar um array Numpy com 10 números aleatórios e ordená-los de forma crescente.\n",
    "\n",
    "2. Escreva um programa para realizar soma e subtração elemento a elemento entre dois arrays Numpy com o mesmo tamanho.\n",
    "\n",
    "3. Escreva um programa para calcular o produto escalar entre dois arrays Numpy.\n",
    "\n",
    "4. Escreva um programa para criar um array Numpy com os valores de 0 a 9 e mudar a forma para uma matriz 3x3.\n",
    "\n",
    "5. Escreva um programa para extrair todos os números pares de um array Numpy e armazená-los em um novo array Numpy.\n",
    "\n",
    "6. Escreva um programa para criar um array Numpy com os valores de 1 a 10 e calcular a soma acumulada dos elementos.\n",
    "\n",
    "7. Escreva um programa para calcular a média e o desvio padrão de um array Numpy ao longo de um eixo específico.\n",
    "\n",
    "8. Escreva um programo para criar um array Numpy com os valores de 1 a 5 e repetir os valores 3 vezes ao longo do primeiro eixo.\n",
    "\n",
    "9. Escreva um programa para realizar comparações elemento a elemento entre dois arrays Numpy e retornar um array Numpy Booleano com os resultados.\n",
    "\n",
    "10. Escreva um programa para criar um array Numpy com os valores de 1 a 10 e substituir todos os números ímpares por -1."
   ]
  },
  {
   "cell_type": "code",
   "execution_count": 65,
   "metadata": {},
   "outputs": [
    {
     "name": "stdout",
     "output_type": "stream",
     "text": [
      "[1 3 4 5 5 5 7 8 8 9]\n"
     ]
    }
   ],
   "source": [
    "#1. Escreva um programa para criar um array Numpy com 10 números aleatórios e ordená-los de forma crescente.\n",
    "matriz10 = np.random.randint(1,10,10,)\n",
    "matriz10.sort()\n",
    "print(matriz10)"
   ]
  },
  {
   "cell_type": "code",
   "execution_count": 6,
   "metadata": {},
   "outputs": [
    {
     "name": "stdout",
     "output_type": "stream",
     "text": [
      "[1, 3, 5, 6, 8, 9, 12, 14, 15, 16, 18, 20, 21, 22, 23]\n"
     ]
    }
   ],
   "source": [
    "import numpy as np\n",
    "\n",
    "#Bucas de forma aleatoria os números da MEGA SENA\n",
    "matrizme = np.arange(1,25)\n",
    "Num_sorteado = np.random.choice(matrizme,size=15, replace=False)\n",
    "Num_sorteado1 = list(Num_sorteado)\n",
    "\n",
    "print(sorted(Num_sorteado1))\n"
   ]
  },
  {
   "cell_type": "code",
   "execution_count": 64,
   "metadata": {},
   "outputs": [
    {
     "name": "stdout",
     "output_type": "stream",
     "text": [
      "[4 5 4 2 1]\n",
      "[7 5 7 4 5]\n",
      "[11 10 11  6  6]\n"
     ]
    }
   ],
   "source": [
    "#2. Escreva um programa para realizar soma e subtração elemento a elemento entre dois arrays Numpy com o mesmo tamanho.\n",
    "matriz10 = np.random.randint(1,10,5,)\n",
    "matriz20 = np.random.randint(1,10,5)\n",
    "print(matriz10)\n",
    "print(matriz20)\n",
    "matrizf = np.add(matriz10, matriz20)\n",
    "print(matrizf)"
   ]
  },
  {
   "cell_type": "code",
   "execution_count": 68,
   "metadata": {},
   "outputs": [
    {
     "name": "stdout",
     "output_type": "stream",
     "text": [
      "[9 1 4 4 3]\n",
      "[9 3 6 7 2]\n",
      "142\n"
     ]
    }
   ],
   "source": [
    "#3. Escreva um programa para calcular o produto escalar entre dois arrays Numpy.\n",
    "matriz10 = np.random.randint(1,10,5,)\n",
    "matriz20 = np.random.randint(1,10,5)\n",
    "print(matriz10)\n",
    "print(matriz20)\n",
    "matrizf = np.dot(matriz10, matriz20)\n",
    "print(matrizf)"
   ]
  },
  {
   "cell_type": "code",
   "execution_count": 72,
   "metadata": {},
   "outputs": [
    {
     "name": "stdout",
     "output_type": "stream",
     "text": [
      "[0 1 2 3 4 5 6 7 8]\n",
      "[[0 1 2]\n",
      " [3 4 5]\n",
      " [6 7 8]]\n"
     ]
    }
   ],
   "source": [
    "#4. Escreva um programa para criar um array Numpy com os valores de 0 a 9 e mudar a forma para uma matriz 3x3.\n",
    "matriz4 = np.arange(0,9)\n",
    "print(matriz4)\n",
    "matriz4f = matriz4.reshape((3,3))\n",
    "print(matriz4f)\n"
   ]
  },
  {
   "cell_type": "code",
   "execution_count": 127,
   "metadata": {},
   "outputs": [
    {
     "data": {
      "text/plain": [
       "array([[1, 2, 3, 4, 5],\n",
       "       [1, 2, 3, 4, 5],\n",
       "       [1, 2, 3, 4, 5]])"
      ]
     },
     "execution_count": 127,
     "metadata": {},
     "output_type": "execute_result"
    }
   ],
   "source": [
    "matriz4_1 = np.arange(1,6).reshape((1,5))\n",
    "\n",
    "np.concatenate((matriz4_1, matriz4_1, matriz4_1),axis=0)"
   ]
  },
  {
   "cell_type": "code",
   "execution_count": 78,
   "metadata": {},
   "outputs": [
    {
     "name": "stdout",
     "output_type": "stream",
     "text": [
      "[0 1 2 3 4 5 6 7 8]\n",
      "[0 2 4 6 8]\n"
     ]
    }
   ],
   "source": [
    "#5. Escreva um programa para extrair todos os números pares de um array Numpy e armazená-los em um novo array Numpy.\n",
    "matriz4 = np.arange(0,9)\n",
    "print(matriz4)\n",
    "Matriz4par = matriz4[matriz4 % 2 == 0]\n",
    "print(Matriz4par)\n"
   ]
  },
  {
   "cell_type": "code",
   "execution_count": 77,
   "metadata": {},
   "outputs": [
    {
     "name": "stdout",
     "output_type": "stream",
     "text": [
      "[0 1 2 3 4 5 6 7 8 9]\n",
      "[0, 2, 4, 6, 8]\n"
     ]
    }
   ],
   "source": [
    "array_01_ex05 = np.arange(0,10)\n",
    "print(array_01_ex05)\n",
    "\n",
    "array_02_ex05 = []\n",
    "for valor in array_01_ex05:\n",
    "    if valor % 2 == 0:\n",
    "        array_02_ex05.append(valor)\n",
    "\n",
    "print(array_02_ex05)"
   ]
  },
  {
   "cell_type": "code",
   "execution_count": 79,
   "metadata": {},
   "outputs": [
    {
     "name": "stdout",
     "output_type": "stream",
     "text": [
      "[1 2 3 4 5 6 7 8 9]\n",
      "45\n"
     ]
    }
   ],
   "source": [
    "# 6. Escreva um programa para criar um array Numpy com os valores de 1 a 10 e calcular a soma acumulada dos elementos.\n",
    "matriz5 = np.arange(1,10)\n",
    "print(matriz5)\n",
    "matriz5f = sum(matriz5)\n",
    "\n",
    "print(matriz5f)"
   ]
  },
  {
   "cell_type": "code",
   "execution_count": 118,
   "metadata": {},
   "outputs": [
    {
     "name": "stdout",
     "output_type": "stream",
     "text": [
      "[2 3 4 5 6 7 8 9]\n",
      "5.5\n"
     ]
    }
   ],
   "source": [
    "# 7. Escreva um programa para calcular a média e o desvio padrão de um array Numpy ao longo de um eixo específico.\n",
    "matriz6 = np.arange(2,10)\n",
    "print(matriz6)\n",
    "matriz6f = np.average(matriz6)\n",
    "print(matriz6f)\n",
    "\n"
   ]
  },
  {
   "cell_type": "code",
   "execution_count": 125,
   "metadata": {},
   "outputs": [
    {
     "name": "stdout",
     "output_type": "stream",
     "text": [
      "[[0.4022342  0.853023  ]\n",
      " [0.83006197 0.67850324]]\n",
      "[0.6276286 0.7542826]\n"
     ]
    }
   ],
   "source": [
    "#se for mais de uma linha podemos utilizar o oaxi\n",
    "arr = np.random.rand(2,2)\n",
    "print(arr)\n",
    "axis_ = 1\n",
    "arrm = np.mean(arr, axis=axis_)\n",
    "print(arrm)"
   ]
  },
  {
   "cell_type": "code",
   "execution_count": 86,
   "metadata": {},
   "outputs": [
    {
     "data": {
      "text/plain": [
       "(5.0, 2.581988897471611)"
      ]
     },
     "execution_count": 86,
     "metadata": {},
     "output_type": "execute_result"
    }
   ],
   "source": [
    "def exercicio_7(array=np.arange(1,10)) -> tuple:\n",
    "    \"\"\"Escreva um programa para calcular a média e o desvio padrão de um array Numpy ao longo de um eixo específico.\"\"\"\n",
    "    return (array.mean(), array.std())\n",
    "exercicio_7()"
   ]
  },
  {
   "cell_type": "code",
   "execution_count": 87,
   "metadata": {},
   "outputs": [
    {
     "name": "stdout",
     "output_type": "stream",
     "text": [
      "[1 2 3 4 5]\n",
      "[1 1 1 2 2 2 3 3 3 4 4 4 5 5 5]\n"
     ]
    }
   ],
   "source": [
    "# 8. Escreva um programo para criar um array Numpy com os valores de 1 a 5 e repetir os valores 3 vezes ao longo do primeiro eixo.\n",
    "matriz8 = np.arange(1,6)\n",
    "print(matriz8)\n",
    "matriz8f = np.repeat(matriz8, 3)\n",
    "print(matriz8f)"
   ]
  },
  {
   "cell_type": "code",
   "execution_count": 95,
   "metadata": {},
   "outputs": [
    {
     "name": "stdout",
     "output_type": "stream",
     "text": [
      "[1 2 3 4 5]\n",
      "[1 3 4 6 5]\n",
      "[ True False False False  True]\n"
     ]
    }
   ],
   "source": [
    "# 9. Escreva um programa para realizar comparações elemento a elemento entre dois arrays Numpy e retornar um array Numpy Booleano com os resultados.\n",
    "matriz9 = np.array([1,2,3,4,5])\n",
    "matriz9_2 = np.array([1,3,4,6,5])\n",
    "print(matriz9)\n",
    "print(matriz9_2)\n",
    "matriz9f = matriz9 == matriz9_2\n",
    "\n",
    "print(matriz9f)"
   ]
  },
  {
   "cell_type": "code",
   "execution_count": 96,
   "metadata": {},
   "outputs": [
    {
     "name": "stdout",
     "output_type": "stream",
     "text": [
      "[1, 2, 3, 4, 5]\n",
      "[1, 3, 4, 6, 5]\n",
      "[ True False False False  True]\n"
     ]
    }
   ],
   "source": [
    "matriz9 = [1,2,3,4,5]\n",
    "matriz9_2 = [1,3,4,6,5]\n",
    "matriz9p = np.array(matriz9)\n",
    "matriz9_2p = np.array(matriz9_2)\n",
    "print(matriz9)\n",
    "print(matriz9_2)\n",
    "matriz9f = matriz9p == matriz9_2p\n",
    "\n",
    "print(matriz9f)"
   ]
  },
  {
   "cell_type": "code",
   "execution_count": 103,
   "metadata": {},
   "outputs": [
    {
     "name": "stdout",
     "output_type": "stream",
     "text": [
      "[ 1  2  3  4  5  6  7  8  9 10]\n",
      "[-1  2 -1  4 -1  6 -1  8 -1 10]\n"
     ]
    }
   ],
   "source": [
    "# 10. Escreva um programa para criar um array Numpy com os valores de 1 a 10 e substituir todos os números ímpares por -1.\n",
    "matriz10 = np.arange(1,11)\n",
    "print(matriz10)\n",
    "matriz10[matriz10 % 2 != 0]=-1\n",
    "\n",
    "print(matriz10)\n"
   ]
  },
  {
   "cell_type": "code",
   "execution_count": 132,
   "metadata": {},
   "outputs": [
    {
     "name": "stdout",
     "output_type": "stream",
     "text": [
      "[-1  2 -1  4 -1  6 -1  8 -1 10]\n",
      "[ 1  2  3  4  5  6  7  8  9 10]\n"
     ]
    }
   ],
   "source": [
    "arr = np.arange(1,11)\n",
    "arr_impar = np.copy(arr)\n",
    "\n",
    "arr_impar[arr_impar %2 != 0] = -1\n",
    "\n",
    "print(arr_impar)\n",
    "print(arr)"
   ]
  },
  {
   "cell_type": "code",
   "execution_count": null,
   "metadata": {},
   "outputs": [],
   "source": [
    "array_01_ex10 = np.arange(0,10)\n",
    "print(array_01_ex10)\n",
    "\n",
    "array_02_ex10f = []\n",
    "for valor in array_01_ex10:\n",
    "    if valor % 2 != 0:\n",
    "        array_02_ex10f.append(-1)\n",
    "    elif valor % 2 ==0:\n",
    "        array_02_ex10f.append(valor)\n",
    "\n",
    "print(array_02_ex10f)"
   ]
  },
  {
   "attachments": {},
   "cell_type": "markdown",
   "metadata": {},
   "source": [
    "## Exercício"
   ]
  },
  {
   "attachments": {},
   "cell_type": "markdown",
   "metadata": {},
   "source": [
    "1. Considere que você esteja trabalhando em uma equipe de metereologia e queira fazer uma análise de chuvas em diferentes regiões de um estado do Brasil. Cada região é representada por 4 bairros, com informações armazenadas de precipicação diária, totalizando 8 regiões.\n",
    "\n",
    "Um analista da empresa carregou todas as bases de precipitação (primeiro eixo contendo as precipitações diárias em um mês e o segundo eixo os bairros), concatenando estas informações em um novo eixo (i.e. terceiro eixo contém as regiões). \n",
    "\n",
    "a) Gere uma função que calcule a precipitação média diária para cada uma das 8 regiões.\n",
    "b) Gere uma função que também calcule a precipitação média diária no estado.\n",
    "c) Gere uma função que diga o bairro e a região que contém a maior precipitação mensal (ou seja, indique apenas o índice do bairro e o índice da região)."
   ]
  },
  {
   "cell_type": "code",
   "execution_count": null,
   "metadata": {},
   "outputs": [],
   "source": []
  },
  {
   "cell_type": "markdown",
   "metadata": {},
   "source": [
    "2. Você recebeu informações de todos os clientes de uma academia. Com o objetivo de verificar a saúde e obter novas informações sobre essas pessoas, você foi encarregado de criar um sistema que extraia algumas informações para a orientação de novas atividades da academia. Para isso, crie um sistema que extraia as seguintes informações:\n",
    "\n",
    "- O cálculo do Índice de Massa Corpórea (IMC) de cada pessoa.\n",
    "- A quantidade e proporção de clientes em cada grupo, de acordo com o IMC.\n",
    "- A quantidade de pessoas acima de 90 kg **e** abaixo de 1.70 m."
   ]
  },
  {
   "cell_type": "code",
   "execution_count": 1,
   "metadata": {},
   "outputs": [],
   "source": [
    "import numpy as np"
   ]
  },
  {
   "cell_type": "code",
   "execution_count": 4,
   "metadata": {},
   "outputs": [],
   "source": [
    "lista_imc = [[1.788810693, 65.64810194, 0],\n",
    "[1.566784434, 76.64276798, 0],\n",
    "[2.092193055, 55.46818533, 1],\n",
    "[1.782470917, 67.28199736, 1],\n",
    "[1.735766977, 69.28900763, 0],\n",
    "[1.686974648, 56.84005114, 0],\n",
    "[1.797104633, 65.20897328, 1],\n",
    "[1.187349055, 48.16476395, 0],\n",
    "[1.595891436, 45.41064814, 1],\n",
    "[1.396281776, 67.93011334, 0],\n",
    "[1.606148165, 67.71960410, 0],\n",
    "[1.707589967, 45.60933262, 0],\n",
    "[1.735513116, 64.84545151, 0],\n",
    "[1.672055182, 39.70595150, 1],\n",
    "[1.723377069, 50.05888021, 1],\n",
    "[1.684574272, 56.54508738, 1],\n",
    "[1.733258930, 37.51218759, 0],\n",
    "[1.757899659, 57.36242239, 0],\n",
    "[1.913337705, 69.30724639, 1],\n",
    "[1.456048343, 69.34233711, 0]]"
   ]
  },
  {
   "cell_type": "code",
   "execution_count": 45,
   "metadata": {},
   "outputs": [
    {
     "name": "stdout",
     "output_type": "stream",
     "text": [
      "[20.51603397 31.22142238 12.67186232 21.17648966 22.9975461  19.97272618\n",
      " 20.19113045 34.16430689 17.82998641 34.84305286 26.25083963 15.6417928\n",
      " 21.52899308 14.20215982 16.85467996 19.92574428 12.48663735 18.56262193\n",
      " 18.93195156 32.70746506]\n"
     ]
    }
   ],
   "source": [
    "mdados = np.array(lista_imc)\n",
    "\n",
    "altura = mdados[0][0]\n",
    "peso = mdados[0,1]\n",
    "\n",
    "mdados = mdados[:,1]/mdados[:,0]**2\n",
    "\n",
    "print(mdados)\n"
   ]
  },
  {
   "cell_type": "code",
   "execution_count": 47,
   "metadata": {},
   "outputs": [
    {
     "data": {
      "text/plain": [
       "array([20.51603397, 31.22142238, 12.67186232, 21.17648966, 22.9975461 ,\n",
       "       19.97272618, 20.19113045, 34.16430689, 17.82998641, 34.84305286,\n",
       "       26.25083963, 15.6417928 , 21.52899308, 14.20215982, 16.85467996,\n",
       "       19.92574428, 12.48663735, 18.56262193, 18.93195156, 32.70746506])"
      ]
     },
     "execution_count": 47,
     "metadata": {},
     "output_type": "execute_result"
    }
   ],
   "source": [
    "def imc_calculo(dados):\n",
    "\n",
    "    imc = dados[:,1]/dados[:,0]**2\n",
    "\n",
    "    return imc\n",
    "\n",
    "matriz_dados = np.array(lista_imc)\n",
    "imc_calculo(matriz_dados)"
   ]
  },
  {
   "cell_type": "markdown",
   "metadata": {},
   "source": [
    "3. Hoje em dia, o IMC é visto como um método \"ultrapassado\", surgindo novas alternativas como o Índice de Adiposidade Corporal (IAC), que usa a medida da cintura para o cálculo. Crie uma nova função que calcule o IAC e extraia as estatísticas semelhantes ao que foi anunciado para o IMC. Em seguida, crie uma nova função (que utiliza as duas já criadas anteriormente) para verificar se existe uma certa correspondência entre os dois métodos."
   ]
  },
  {
   "attachments": {},
   "cell_type": "markdown",
   "metadata": {},
   "source": [
    "## Desafios"
   ]
  },
  {
   "attachments": {},
   "cell_type": "markdown",
   "metadata": {},
   "source": [
    "1. Sudoku é um jogo de lógica muito popular. Segundo [fonte](https://pt.wikipedia.org/wiki/Sudoku), o objetivo do jogo é a colocação de números de 1 a 9 em cada uma das células vazias numa grade de 9x9, constituída por 3x3 subgrades chamadas regiões. Um jogo é válido apenas se tiver um número distinto (de 1 a 9) em cada linha, coluna ou região. \n",
    "\n",
    "Crie uma função que verifique se o jogo é válido ou não. Para isso, a função deve receber como argumento de entrada uma matriz 9 x 9 e obrigatoriamente retornar um `bool`, onde `True` significa que o jogo é válido e `False` como inválido. \n",
    "\n",
    "**Extra**: Caso a função retorne `False`, retorne também uma matriz de posições indicando quais células invalidaram o jogo."
   ]
  },
  {
   "cell_type": "code",
   "execution_count": null,
   "metadata": {},
   "outputs": [],
   "source": []
  },
  {
   "cell_type": "code",
   "execution_count": null,
   "metadata": {},
   "outputs": [],
   "source": []
  },
  {
   "attachments": {},
   "cell_type": "markdown",
   "metadata": {},
   "source": [
    "2. A área de processamento de imagens demanda um grande conhecimento sobre matrizes e cálculos matriciais. Por exemplo, podemos pensar em uma imagem como uma grande matriz de pixels, onde cada valor desta matriz representa a intensidade de cor. \n",
    "Geralmente as imagens estão presentes no espaço de cores **RGB**, e as informações armazenadas são, na verdade, contidas em um tensor com três dimensões (H x W x C). \n",
    "\n",
    "Em processamento de imagens, podemos fazer uso desse conhecimento para transformação de imagens (ou edição). Para isso, faça o que se pede a seguir:\n",
    "\n",
    "- Crie uma função que converta uma imagem RGB em escala de cinza. Procure na Internet a formulação matemática e realize tal procedimento. \n",
    "\n",
    "- Pesquise sobre transformações de imagem (e.g. gamma correction) e implemente uma destas funções.\n",
    "\n"
   ]
  },
  {
   "attachments": {},
   "cell_type": "markdown",
   "metadata": {},
   "source": []
  },
  {
   "cell_type": "markdown",
   "metadata": {},
   "source": []
  },
  {
   "cell_type": "markdown",
   "metadata": {},
   "source": []
  }
 ],
 "metadata": {
  "kernelspec": {
   "display_name": "Python 3.10.4 64-bit",
   "language": "python",
   "name": "python3"
  },
  "language_info": {
   "codemirror_mode": {
    "name": "ipython",
    "version": 3
   },
   "file_extension": ".py",
   "mimetype": "text/x-python",
   "name": "python",
   "nbconvert_exporter": "python",
   "pygments_lexer": "ipython3",
   "version": "3.11.1"
  },
  "orig_nbformat": 4,
  "vscode": {
   "interpreter": {
    "hash": "d044c6e0ce06759120adefce77398d00e1228e64d92f3f185fbd024a7701b8e0"
   }
  }
 },
 "nbformat": 4,
 "nbformat_minor": 2
}
